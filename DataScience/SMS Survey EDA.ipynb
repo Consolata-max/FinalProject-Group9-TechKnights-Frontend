{
 "cells": [
  {
   "cell_type": "markdown",
   "metadata": {},
   "source": [
    "# DATA ANALYSIS- SCHOOL MANAGEMENT SYSTEM"
   ]
  },
  {
   "cell_type": "code",
   "execution_count": 1,
   "metadata": {},
   "outputs": [],
   "source": [
    "import warnings\n",
    "warnings.simplefilter('ignore', FutureWarning)\n",
    "import pandas as pd\n",
    "import numpy as np\n",
    "import matplotlib.pyplot as plt\n",
    "import seaborn as sns\n",
    "import csv"
   ]
  },
  {
   "cell_type": "code",
   "execution_count": 2,
   "metadata": {},
   "outputs": [],
   "source": [
    "S = pd.read_csv(\"SMSEDA(TechKnights).csv\")"
   ]
  },
  {
   "cell_type": "code",
   "execution_count": 3,
   "metadata": {},
   "outputs": [
    {
     "data": {
      "text/plain": [
       "<bound method NDFrame.head of     S/N What's your Gender? Do you have children currently in school?  \\\n",
       "0     1              Female                                        No   \n",
       "1     2                Male                                        No   \n",
       "2     3                Male                                       Yes   \n",
       "3     4              Female                                       Yes   \n",
       "4     5                Male                                        No   \n",
       "..  ...                 ...                                       ...   \n",
       "95   96              Female                                        No   \n",
       "96   97              Female                                       Yes   \n",
       "97   98              Female                                       Yes   \n",
       "98   99              Female                                       Yes   \n",
       "99  100              Female                                       Yes   \n",
       "\n",
       "    How many children do you have in school? Relationship to the child?  \\\n",
       "0                                          4                      Aunty   \n",
       "1                                          1                     Father   \n",
       "2                                          2                     Father   \n",
       "3                                          1                      Aunty   \n",
       "4                                          2                      Uncle   \n",
       "..                                       ...                        ...   \n",
       "95                                         0                     Others   \n",
       "96                                         4                     Mother   \n",
       "97                                         2                     Mother   \n",
       "98                                         4                     Mother   \n",
       "99                                         3                      Aunty   \n",
       "\n",
       "   Type of institution Age of the child What class is your child?  \\\n",
       "0              Private           09-Dec        Primary, Secondary   \n",
       "1              Private              0-4               Kindergaton   \n",
       "2              Private              0-4      Kindergaton, Nursery   \n",
       "3              Private           05-Aug                   Primary   \n",
       "4               Public            13-17                 Secondary   \n",
       "..                 ...              ...                       ...   \n",
       "95              Public           09-Dec                   Primary   \n",
       "96             Private      9-12, 13-17        Primary, Secondary   \n",
       "97             Private         0-4, 5-8          Nursery, Primary   \n",
       "98              Public           09-Dec                   Primary   \n",
       "99             Private           05-Aug                   Primary   \n",
       "\n",
       "   What country do you currently reside in?  \\\n",
       "0                                     Egypt   \n",
       "1                                   Nigeria   \n",
       "2                                     Kenya   \n",
       "3                                     Ghana   \n",
       "4                                   Nigeria   \n",
       "..                                      ...   \n",
       "95                                    Kenya   \n",
       "96                                    Kenya   \n",
       "97                                  Nigeria   \n",
       "98                                    Kenya   \n",
       "99                                  Nigeria   \n",
       "\n",
       "   How often do you meet with the teachers at the school?  \\\n",
       "0                                      Weekly or more       \n",
       "1                                      Weekly or more       \n",
       "2                                Once in a few months       \n",
       "3                                Once in a few months       \n",
       "4                                 1 - 2 times a month       \n",
       "..                                                ...       \n",
       "95                                    Whenever needed       \n",
       "96                               Few times in a month       \n",
       "97                                     Weekly or more       \n",
       "98                               Few times in a month       \n",
       "99                               Few times in a month       \n",
       "\n",
       "   How often do you communicate with your child about the school?  \\\n",
       "0                                      Weekly or more               \n",
       "1                                      Weekly or more               \n",
       "2                                      Weekly or more               \n",
       "3                                 1 - 2 times a month               \n",
       "4                                      Weekly or more               \n",
       "..                                                ...               \n",
       "95                                     Weekly or more               \n",
       "96                                     Weekly or more               \n",
       "97                                     Weekly or more               \n",
       "98                                     Weekly or more               \n",
       "99                                1 - 2 times a month               \n",
       "\n",
       "   To what extent are you aware of your child's activities at school?  \\\n",
       "0                                         Fully aware                   \n",
       "1                                         Fully aware                   \n",
       "2                                         Quite aware                   \n",
       "3                                         Quite aware                   \n",
       "4                                         Quite aware                   \n",
       "..                                                ...                   \n",
       "95                                        Fully aware                   \n",
       "96                                        Fully aware                   \n",
       "97                                        Fully aware                   \n",
       "98                                        Fully aware                   \n",
       "99                                        Fully aware                   \n",
       "\n",
       "   What kind of application would you prefer for instant communication between you and your child's school?  \\\n",
       "0                                  mobile application                                                         \n",
       "1                                                both                                                         \n",
       "2                                                both                                                         \n",
       "3                                  mobile application                                                         \n",
       "4                                                both                                                         \n",
       "..                                                ...                                                         \n",
       "95                                 mobile application                                                         \n",
       "96                                               both                                                         \n",
       "97                                               both                                                         \n",
       "98                                 mobile application                                                         \n",
       "99                                               both                                                         \n",
       "\n",
       "   Have you been introduced to the use of a school management software prior to this survey?  \\\n",
       "0                                                  No                                          \n",
       "1                                                  No                                          \n",
       "2                                                 Yes                                          \n",
       "3                                                 Yes                                          \n",
       "4                                                  No                                          \n",
       "..                                                ...                                          \n",
       "95                                                 No                                          \n",
       "96                                                Yes                                          \n",
       "97                                                 No                                          \n",
       "98                                                 No                                          \n",
       "99                                                 No                                          \n",
       "\n",
       "   If answer to question above is Yes? What were the problems encountered while using the school management software?  \\\n",
       "0                                                None                                                                   \n",
       "1                                                None                                                                   \n",
       "2                                                None                                                                   \n",
       "3                         User interface not friendly                                                                   \n",
       "4                                                None                                                                   \n",
       "..                                                ...                                                                   \n",
       "95                                               None                                                                   \n",
       "96                                 Slow in connection                                                                   \n",
       "97                                               None                                                                   \n",
       "98                                               None                                                                   \n",
       "99                                               None                                                                   \n",
       "\n",
       "   Would you like to receive timely updates of your child's activities in school?  \n",
       "0                                                 Yes                              \n",
       "1                                                 Yes                              \n",
       "2                                                 Yes                              \n",
       "3                                                 Yes                              \n",
       "4                                                 Yes                              \n",
       "..                                                ...                              \n",
       "95                                                Yes                              \n",
       "96                                                Yes                              \n",
       "97                                                Yes                              \n",
       "98                                                Yes                              \n",
       "99                                                Yes                              \n",
       "\n",
       "[100 rows x 16 columns]>"
      ]
     },
     "execution_count": 3,
     "metadata": {},
     "output_type": "execute_result"
    }
   ],
   "source": [
    "S.head"
   ]
  },
  {
   "cell_type": "code",
   "execution_count": 4,
   "metadata": {},
   "outputs": [
    {
     "data": {
      "text/html": [
       "<div>\n",
       "<style scoped>\n",
       "    .dataframe tbody tr th:only-of-type {\n",
       "        vertical-align: middle;\n",
       "    }\n",
       "\n",
       "    .dataframe tbody tr th {\n",
       "        vertical-align: top;\n",
       "    }\n",
       "\n",
       "    .dataframe thead th {\n",
       "        text-align: right;\n",
       "    }\n",
       "</style>\n",
       "<table border=\"1\" class=\"dataframe\">\n",
       "  <thead>\n",
       "    <tr style=\"text-align: right;\">\n",
       "      <th></th>\n",
       "      <th>S/N</th>\n",
       "      <th>How many children do you have in school?</th>\n",
       "    </tr>\n",
       "  </thead>\n",
       "  <tbody>\n",
       "    <tr>\n",
       "      <th>count</th>\n",
       "      <td>100.000000</td>\n",
       "      <td>100.000000</td>\n",
       "    </tr>\n",
       "    <tr>\n",
       "      <th>mean</th>\n",
       "      <td>50.500000</td>\n",
       "      <td>1.980000</td>\n",
       "    </tr>\n",
       "    <tr>\n",
       "      <th>std</th>\n",
       "      <td>29.011492</td>\n",
       "      <td>1.556868</td>\n",
       "    </tr>\n",
       "    <tr>\n",
       "      <th>min</th>\n",
       "      <td>1.000000</td>\n",
       "      <td>0.000000</td>\n",
       "    </tr>\n",
       "    <tr>\n",
       "      <th>25%</th>\n",
       "      <td>25.750000</td>\n",
       "      <td>1.000000</td>\n",
       "    </tr>\n",
       "    <tr>\n",
       "      <th>50%</th>\n",
       "      <td>50.500000</td>\n",
       "      <td>2.000000</td>\n",
       "    </tr>\n",
       "    <tr>\n",
       "      <th>75%</th>\n",
       "      <td>75.250000</td>\n",
       "      <td>2.000000</td>\n",
       "    </tr>\n",
       "    <tr>\n",
       "      <th>max</th>\n",
       "      <td>100.000000</td>\n",
       "      <td>13.000000</td>\n",
       "    </tr>\n",
       "  </tbody>\n",
       "</table>\n",
       "</div>"
      ],
      "text/plain": [
       "              S/N  How many children do you have in school?\n",
       "count  100.000000                                100.000000\n",
       "mean    50.500000                                  1.980000\n",
       "std     29.011492                                  1.556868\n",
       "min      1.000000                                  0.000000\n",
       "25%     25.750000                                  1.000000\n",
       "50%     50.500000                                  2.000000\n",
       "75%     75.250000                                  2.000000\n",
       "max    100.000000                                 13.000000"
      ]
     },
     "execution_count": 4,
     "metadata": {},
     "output_type": "execute_result"
    }
   ],
   "source": [
    "# summary of numerical data\n",
    "S.describe()"
   ]
  },
  {
   "cell_type": "code",
   "execution_count": 5,
   "metadata": {},
   "outputs": [
    {
     "data": {
      "text/plain": [
       "Index(['S/N', 'What's your Gender?',\n",
       "       'Do you have children currently in school?',\n",
       "       'How many children do you have in school?',\n",
       "       'Relationship to the child?', 'Type of institution', 'Age of the child',\n",
       "       'What class is your child?', 'What country do you currently reside in?',\n",
       "       'How often do you meet with the teachers at the school?',\n",
       "       'How often do you communicate with your child about the school?',\n",
       "       'To what extent are you aware of your child's activities at school?',\n",
       "       'What kind of application would you prefer for instant communication between you and your child's school?',\n",
       "       'Have you been introduced to the use of a school management software prior to this survey?',\n",
       "       'If answer to question above is Yes? What were the problems encountered while using the school management software?',\n",
       "       'Would you like to receive timely updates of your child's activities in school?'],\n",
       "      dtype='object')"
      ]
     },
     "execution_count": 5,
     "metadata": {},
     "output_type": "execute_result"
    }
   ],
   "source": [
    "S.columns"
   ]
  },
  {
   "cell_type": "code",
   "execution_count": 6,
   "metadata": {},
   "outputs": [
    {
     "data": {
      "text/plain": [
       "count    100.000000\n",
       "mean       1.980000\n",
       "std        1.556868\n",
       "min        0.000000\n",
       "25%        1.000000\n",
       "50%        2.000000\n",
       "75%        2.000000\n",
       "max       13.000000\n",
       "Name: How many children do you have in school?, dtype: float64"
      ]
     },
     "execution_count": 6,
     "metadata": {},
     "output_type": "execute_result"
    }
   ],
   "source": [
    "S['How many children do you have in school?'].describe()"
   ]
  },
  {
   "cell_type": "code",
   "execution_count": 7,
   "metadata": {},
   "outputs": [],
   "source": [
    "##S['How many children do you have in school?'] = np.where(S['How many children do you have in school?']=='NR', 0, S['How many children do you have in school?'] )"
   ]
  },
  {
   "cell_type": "code",
   "execution_count": 8,
   "metadata": {},
   "outputs": [],
   "source": [
    "S[\"How many children do you have in school?\"] = pd.to_numeric(S[\"How many children do you have in school?\"], downcast=\"float\")"
   ]
  },
  {
   "cell_type": "code",
   "execution_count": 9,
   "metadata": {},
   "outputs": [
    {
     "data": {
      "text/plain": [
       "<AxesSubplot:ylabel='How many children do you have in school?'>"
      ]
     },
     "execution_count": 9,
     "metadata": {},
     "output_type": "execute_result"
    },
    {
     "data": {
      "image/png": "[encoded data removed]",
      "text/plain": [
       "<Figure size 720x720 with 1 Axes>"
      ]
     },
     "metadata": {
      "needs_background": "light"
     },
     "output_type": "display_data"
    }
   ],
   "source": [
    "plt.figure(figsize = (10,10)) \n",
    "plt.subplot(1,1,1)\n",
    "sns.boxplot(y = S['How many children do you have in school?'])"
   ]
  },
  {
   "cell_type": "markdown",
   "metadata": {},
   "source": [
    "# OBSERVATIONS \n",
    "\n",
    "1. From the above diagram "
   ]
  },
  {
   "cell_type": "markdown",
   "metadata": {},
   "source": [
    "# Observation\n",
    "\n",
    " "
   ]
  },
  {
   "cell_type": "code",
   "execution_count": 10,
   "metadata": {},
   "outputs": [
    {
     "data": {
      "text/plain": [
       "<AxesSubplot:xlabel=\"What's your Gender?\", ylabel='How many children do you have in school?'>"
      ]
     },
     "execution_count": 10,
     "metadata": {},
     "output_type": "execute_result"
    },
    {
     "data": {
      "image/png": "[encoded data removed]",
      "text/plain": [
       "<Figure size 720x720 with 1 Axes>"
      ]
     },
     "metadata": {
      "needs_background": "light"
     },
     "output_type": "display_data"
    }
   ],
   "source": [
    "plt.figure(figsize = (10,10)) \n",
    "plt.subplot(1,1,1)\n",
    "sns.scatterplot(x = S[\"What's your Gender?\"], y = S['How many children do you have in school?'])"
   ]
  },
  {
   "cell_type": "markdown",
   "metadata": {},
   "source": [
    "# Gender analysis"
   ]
  },
  {
   "cell_type": "code",
   "execution_count": 11,
   "metadata": {},
   "outputs": [
    {
     "data": {
      "text/plain": [
       "count        100\n",
       "unique         2\n",
       "top       Female\n",
       "freq          62\n",
       "Name: What's your Gender?, dtype: object"
      ]
     },
     "execution_count": 11,
     "metadata": {},
     "output_type": "execute_result"
    }
   ],
   "source": [
    "S[\"What's your Gender?\"].describe()"
   ]
  },
  {
   "cell_type": "code",
   "execution_count": 12,
   "metadata": {},
   "outputs": [
    {
     "data": {
      "text/plain": [
       "Female    62\n",
       "Male      38\n",
       "Name: What's your Gender?, dtype: int64"
      ]
     },
     "execution_count": 12,
     "metadata": {},
     "output_type": "execute_result"
    }
   ],
   "source": [
    "S[\"What's your Gender?\"].value_counts()"
   ]
  },
  {
   "cell_type": "code",
   "execution_count": 13,
   "metadata": {},
   "outputs": [
    {
     "data": {
      "text/plain": [
       "<AxesSubplot:xlabel='Type of institution', ylabel='count'>"
      ]
     },
     "execution_count": 13,
     "metadata": {},
     "output_type": "execute_result"
    },
    {
     "data": {
      "image/png": "[encoded data removed]",
      "text/plain": [
       "<Figure size 432x288 with 2 Axes>"
      ]
     },
     "metadata": {
      "needs_background": "light"
     },
     "output_type": "display_data"
    }
   ],
   "source": [
    "\n",
    "plt.subplot(1,3,2)\n",
    "sns.countplot(S['Age of the child']) # showing the frequency plots for \n",
    "plt.subplot(1,3,3)\n",
    "sns.countplot(S['Type of institution'])\n",
    "# sns.boxplot(S[''], S[\"\"])"
   ]
  },
  {
   "cell_type": "code",
   "execution_count": 14,
   "metadata": {},
   "outputs": [
    {
     "data": {
      "text/plain": [
       "Index(['S/N', 'What's your Gender?',\n",
       "       'Do you have children currently in school?',\n",
       "       'How many children do you have in school?',\n",
       "       'Relationship to the child?', 'Type of institution', 'Age of the child',\n",
       "       'What class is your child?', 'What country do you currently reside in?',\n",
       "       'How often do you meet with the teachers at the school?',\n",
       "       'How often do you communicate with your child about the school?',\n",
       "       'To what extent are you aware of your child's activities at school?',\n",
       "       'What kind of application would you prefer for instant communication between you and your child's school?',\n",
       "       'Have you been introduced to the use of a school management software prior to this survey?',\n",
       "       'If answer to question above is Yes? What were the problems encountered while using the school management software?',\n",
       "       'Would you like to receive timely updates of your child's activities in school?'],\n",
       "      dtype='object')"
      ]
     },
     "execution_count": 14,
     "metadata": {},
     "output_type": "execute_result"
    }
   ],
   "source": [
    "S.columns"
   ]
  },
  {
   "cell_type": "markdown",
   "metadata": {},
   "source": [
    "# OBSERVATIONS\n",
    "\n"
   ]
  },
  {
   "cell_type": "code",
   "execution_count": 15,
   "metadata": {},
   "outputs": [
    {
     "data": {
      "text/plain": [
       "count         100\n",
       "unique         14\n",
       "top       Primary\n",
       "freq           34\n",
       "Name: What class is your child?, dtype: object"
      ]
     },
     "execution_count": 15,
     "metadata": {},
     "output_type": "execute_result"
    }
   ],
   "source": [
    "S[\"What class is your child?\"].describe()"
   ]
  },
  {
   "cell_type": "code",
   "execution_count": 16,
   "metadata": {},
   "outputs": [
    {
     "data": {
      "text/plain": [
       "Primary                          0.34\n",
       "Secondary                        0.10\n",
       "Nursery                          0.09\n",
       "Primary, Secondary               0.09\n",
       "Nursery, Primary                 0.08\n",
       "Kindergaton                      0.07\n",
       "Tertiary                         0.07\n",
       "Kindergarten                     0.04\n",
       "Kindergarten, Primary            0.03\n",
       "Kindergarten, Nursery            0.03\n",
       "Kindergaton, Nursery             0.02\n",
       "Secondary, Tertiary              0.02\n",
       "Kindergaton, Nursery, Primary    0.01\n",
       "Kindergaton, Primary             0.01\n",
       "Name: What class is your child?, dtype: float64"
      ]
     },
     "execution_count": 16,
     "metadata": {},
     "output_type": "execute_result"
    }
   ],
   "source": [
    "S[\"What class is your child?\"].value_counts(normalize = True)"
   ]
  },
  {
   "cell_type": "markdown",
   "metadata": {},
   "source": [
    " # OBSERVATIONS\n",
    " \n",
    " 1. "
   ]
  },
  {
   "cell_type": "code",
   "execution_count": 17,
   "metadata": {},
   "outputs": [
    {
     "data": {
      "text/plain": [
       "count         100\n",
       "unique          9\n",
       "top       Nigeria\n",
       "freq           49\n",
       "Name: What country do you currently reside in?, dtype: object"
      ]
     },
     "execution_count": 17,
     "metadata": {},
     "output_type": "execute_result"
    }
   ],
   "source": [
    "S[\"What country do you currently reside in?\"].describe()"
   ]
  },
  {
   "cell_type": "code",
   "execution_count": 18,
   "metadata": {},
   "outputs": [
    {
     "data": {
      "text/plain": [
       "Nigeria         49\n",
       "Kenya           31\n",
       "South Africa    10\n",
       "Ghana            4\n",
       "USA              2\n",
       "UK               1\n",
       "Uk               1\n",
       "Egypt            1\n",
       "Canada           1\n",
       "Name: What country do you currently reside in?, dtype: int64"
      ]
     },
     "execution_count": 18,
     "metadata": {},
     "output_type": "execute_result"
    }
   ],
   "source": [
    "S[\"What country do you currently reside in?\"].value_counts()"
   ]
  },
  {
   "cell_type": "code",
   "execution_count": 19,
   "metadata": {},
   "outputs": [
    {
     "data": {
      "text/plain": [
       "<AxesSubplot:xlabel='What country do you currently reside in?', ylabel='count'>"
      ]
     },
     "execution_count": 19,
     "metadata": {},
     "output_type": "execute_result"
    },
    {
     "data": {
      "image/png": "[encoded data removed]",
      "text/plain": [
       "<Figure size 432x288 with 1 Axes>"
      ]
     },
     "metadata": {
      "needs_background": "light"
     },
     "output_type": "display_data"
    }
   ],
   "source": [
    "plt.subplot(1,1,1)\n",
    "sns.countplot(S['What country do you currently reside in?'])"
   ]
  },
  {
   "cell_type": "markdown",
   "metadata": {},
   "source": [
    "# OBSERVATIONS\n",
    "\n",
    "1. "
   ]
  },
  {
   "cell_type": "code",
   "execution_count": 20,
   "metadata": {},
   "outputs": [
    {
     "data": {
      "text/plain": [
       "count                100\n",
       "unique                 4\n",
       "top       Weekly or more\n",
       "freq                  72\n",
       "Name: How often do you communicate with your child about the school?, dtype: object"
      ]
     },
     "execution_count": 20,
     "metadata": {},
     "output_type": "execute_result"
    }
   ],
   "source": [
    "S[\"How often do you communicate with your child about the school?\"].describe()"
   ]
  },
  {
   "cell_type": "code",
   "execution_count": 21,
   "metadata": {},
   "outputs": [
    {
     "data": {
      "text/plain": [
       "Weekly or more          72\n",
       "1 - 2 times a month     17\n",
       "Once in a few months     6\n",
       "Never                    5\n",
       "Name: How often do you communicate with your child about the school?, dtype: int64"
      ]
     },
     "execution_count": 21,
     "metadata": {},
     "output_type": "execute_result"
    }
   ],
   "source": [
    "S[\"How often do you communicate with your child about the school?\"].value_counts()\n"
   ]
  },
  {
   "cell_type": "code",
   "execution_count": 22,
   "metadata": {},
   "outputs": [
    {
     "data": {
      "text/plain": [
       "<AxesSubplot:xlabel='How often do you communicate with your child about the school?', ylabel='count'>"
      ]
     },
     "execution_count": 22,
     "metadata": {},
     "output_type": "execute_result"
    },
    {
     "data": {
      "image/png": "[encoded data removed]",
      "text/plain": [
       "<Figure size 432x288 with 1 Axes>"
      ]
     },
     "metadata": {
      "needs_background": "light"
     },
     "output_type": "display_data"
    }
   ],
   "source": [
    "plt.subplot(1,1,1)\n",
    "sns.countplot(S['How often do you communicate with your child about the school?'])"
   ]
  },
  {
   "cell_type": "markdown",
   "metadata": {},
   "source": [
    "# Statistical Hypothesis"
   ]
  },
  {
   "cell_type": "code",
   "execution_count": 23,
   "metadata": {},
   "outputs": [],
   "source": [
    "import scipy.stats as stats"
   ]
  },
  {
   "cell_type": "code",
   "execution_count": 24,
   "metadata": {},
   "outputs": [
    {
     "name": "stdout",
     "output_type": "stream",
     "text": [
      "table :-\n",
      " How often do you communicate with your child about the school?  1 - 2 times a month  \\\n",
      "What's your Gender?                                                                   \n",
      "Female                                                                           11   \n",
      "Male                                                                              6   \n",
      "\n",
      "How often do you communicate with your child about the school?  Never  \\\n",
      "What's your Gender?                                                     \n",
      "Female                                                              3   \n",
      "Male                                                                2   \n",
      "\n",
      "How often do you communicate with your child about the school?  Once in a few months  \\\n",
      "What's your Gender?                                                                    \n",
      "Female                                                                             1   \n",
      "Male                                                                               5   \n",
      "\n",
      "How often do you communicate with your child about the school?  Weekly or more  \n",
      "What's your Gender?                                                             \n",
      "Female                                                                      47  \n",
      "Male                                                                        25  \n"
     ]
    },
    {
     "data": {
      "text/html": [
       "<div>\n",
       "<style scoped>\n",
       "    .dataframe tbody tr th:only-of-type {\n",
       "        vertical-align: middle;\n",
       "    }\n",
       "\n",
       "    .dataframe tbody tr th {\n",
       "        vertical-align: top;\n",
       "    }\n",
       "\n",
       "    .dataframe thead th {\n",
       "        text-align: right;\n",
       "    }\n",
       "</style>\n",
       "<table border=\"1\" class=\"dataframe\">\n",
       "  <thead>\n",
       "    <tr style=\"text-align: right;\">\n",
       "      <th>How often do you communicate with your child about the school?</th>\n",
       "      <th>1 - 2 times a month</th>\n",
       "      <th>Never</th>\n",
       "      <th>Once in a few months</th>\n",
       "      <th>Weekly or more</th>\n",
       "    </tr>\n",
       "    <tr>\n",
       "      <th>What's your Gender?</th>\n",
       "      <th></th>\n",
       "      <th></th>\n",
       "      <th></th>\n",
       "      <th></th>\n",
       "    </tr>\n",
       "  </thead>\n",
       "  <tbody>\n",
       "    <tr>\n",
       "      <th>Female</th>\n",
       "      <td>11</td>\n",
       "      <td>3</td>\n",
       "      <td>1</td>\n",
       "      <td>47</td>\n",
       "    </tr>\n",
       "    <tr>\n",
       "      <th>Male</th>\n",
       "      <td>6</td>\n",
       "      <td>2</td>\n",
       "      <td>5</td>\n",
       "      <td>25</td>\n",
       "    </tr>\n",
       "  </tbody>\n",
       "</table>\n",
       "</div>"
      ],
      "text/plain": [
       "How often do you communicate with your child about the school?  1 - 2 times a month  \\\n",
       "What's your Gender?                                                                   \n",
       "Female                                                                           11   \n",
       "Male                                                                              6   \n",
       "\n",
       "How often do you communicate with your child about the school?  Never  \\\n",
       "What's your Gender?                                                     \n",
       "Female                                                              3   \n",
       "Male                                                                2   \n",
       "\n",
       "How often do you communicate with your child about the school?  Once in a few months  \\\n",
       "What's your Gender?                                                                    \n",
       "Female                                                                             1   \n",
       "Male                                                                               5   \n",
       "\n",
       "How often do you communicate with your child about the school?  Weekly or more  \n",
       "What's your Gender?                                                             \n",
       "Female                                                                      47  \n",
       "Male                                                                        25  "
      ]
     },
     "execution_count": 24,
     "metadata": {},
     "output_type": "execute_result"
    }
   ],
   "source": [
    "table1=pd.crosstab(S[\"What's your Gender?\"],S[\"How often do you communicate with your child about the school?\"])\n",
    "print('table :-\\n',table1)\n",
    "table1"
   ]
  },
  {
   "cell_type": "code",
   "execution_count": 25,
   "metadata": {},
   "outputs": [
    {
     "name": "stdout",
     "output_type": "stream",
     "text": [
      "Observed Values :-\n",
      " [[11  3  1 47]\n",
      " [ 6  2  5 25]]\n"
     ]
    }
   ],
   "source": [
    "Values = table1.values \n",
    "print(\"Observed Values :-\\n\",Values)"
   ]
  },
  {
   "cell_type": "code",
   "execution_count": 26,
   "metadata": {},
   "outputs": [],
   "source": [
    "# chi-squared test with similar proportions\n",
    "from scipy.stats import chi2_contingency\n",
    "from scipy.stats import chi2"
   ]
  },
  {
   "cell_type": "code",
   "execution_count": 27,
   "metadata": {},
   "outputs": [],
   "source": [
    "stat, p, dof, expected = chi2_contingency(table1)"
   ]
  },
  {
   "cell_type": "code",
   "execution_count": 28,
   "metadata": {},
   "outputs": [
    {
     "name": "stdout",
     "output_type": "stream",
     "text": [
      "dof=3\n",
      "[[10.54  3.1   3.72 44.64]\n",
      " [ 6.46  1.9   2.28 27.36]]\n"
     ]
    }
   ],
   "source": [
    "print('dof=%d' % dof)\n",
    "print(expected)"
   ]
  },
  {
   "cell_type": "code",
   "execution_count": 29,
   "metadata": {},
   "outputs": [
    {
     "name": "stdout",
     "output_type": "stream",
     "text": [
      "probability=0.950, critical=7.815, stat=5.623\n",
      "Independent (fail to reject H0)\n",
      "significance=0.050, p=0.131\n",
      "Independent (fail to reject H0)\n"
     ]
    }
   ],
   "source": [
    "# interpret test-statistic\n",
    "prob = 0.95\n",
    "critical = chi2.ppf(prob, dof)\n",
    "print('probability=%.3f, critical=%.3f, stat=%.3f' % (prob, critical, stat))\n",
    "if abs(stat) >= critical:\n",
    "\tprint('Dependent (reject H0)')\n",
    "else:\n",
    "\tprint('Independent (fail to reject H0)')\n",
    "# interpret p-value\n",
    "alpha = 1.0 - prob\n",
    "print('significance=%.3f, p=%.3f' % (alpha, p))\n",
    "if p <= alpha:\n",
    "\tprint('Dependent (reject H0)')\n",
    "else:\n",
    "\tprint('Independent (fail to reject H0)')"
   ]
  },
  {
   "cell_type": "markdown",
   "metadata": {},
   "source": [
    "test"
   ]
  },
  {
   "cell_type": "code",
   "execution_count": 30,
   "metadata": {},
   "outputs": [
    {
     "name": "stdout",
     "output_type": "stream",
     "text": [
      "table :-\n",
      " To what extent are you aware of your child's activities at school?  Fully aware  \\\n",
      "What's your Gender?                                                               \n",
      "Female                                                                       36   \n",
      "Male                                                                         18   \n",
      "\n",
      "To what extent are you aware of your child's activities at school?  Not aware  \\\n",
      "What's your Gender?                                                             \n",
      "Female                                                                      1   \n",
      "Male                                                                        0   \n",
      "\n",
      "To what extent are you aware of your child's activities at school?  Partly aware  \\\n",
      "What's your Gender?                                                                \n",
      "Female                                                                        14   \n",
      "Male                                                                           9   \n",
      "\n",
      "To what extent are you aware of your child's activities at school?  Quite aware  \n",
      "What's your Gender?                                                              \n",
      "Female                                                                       11  \n",
      "Male                                                                         11  \n"
     ]
    },
    {
     "data": {
      "text/html": [
       "<div>\n",
       "<style scoped>\n",
       "    .dataframe tbody tr th:only-of-type {\n",
       "        vertical-align: middle;\n",
       "    }\n",
       "\n",
       "    .dataframe tbody tr th {\n",
       "        vertical-align: top;\n",
       "    }\n",
       "\n",
       "    .dataframe thead th {\n",
       "        text-align: right;\n",
       "    }\n",
       "</style>\n",
       "<table border=\"1\" class=\"dataframe\">\n",
       "  <thead>\n",
       "    <tr style=\"text-align: right;\">\n",
       "      <th>To what extent are you aware of your child's activities at school?</th>\n",
       "      <th>Fully aware</th>\n",
       "      <th>Not aware</th>\n",
       "      <th>Partly aware</th>\n",
       "      <th>Quite aware</th>\n",
       "    </tr>\n",
       "    <tr>\n",
       "      <th>What's your Gender?</th>\n",
       "      <th></th>\n",
       "      <th></th>\n",
       "      <th></th>\n",
       "      <th></th>\n",
       "    </tr>\n",
       "  </thead>\n",
       "  <tbody>\n",
       "    <tr>\n",
       "      <th>Female</th>\n",
       "      <td>36</td>\n",
       "      <td>1</td>\n",
       "      <td>14</td>\n",
       "      <td>11</td>\n",
       "    </tr>\n",
       "    <tr>\n",
       "      <th>Male</th>\n",
       "      <td>18</td>\n",
       "      <td>0</td>\n",
       "      <td>9</td>\n",
       "      <td>11</td>\n",
       "    </tr>\n",
       "  </tbody>\n",
       "</table>\n",
       "</div>"
      ],
      "text/plain": [
       "To what extent are you aware of your child's activities at school?  Fully aware  \\\n",
       "What's your Gender?                                                               \n",
       "Female                                                                       36   \n",
       "Male                                                                         18   \n",
       "\n",
       "To what extent are you aware of your child's activities at school?  Not aware  \\\n",
       "What's your Gender?                                                             \n",
       "Female                                                                      1   \n",
       "Male                                                                        0   \n",
       "\n",
       "To what extent are you aware of your child's activities at school?  Partly aware  \\\n",
       "What's your Gender?                                                                \n",
       "Female                                                                        14   \n",
       "Male                                                                           9   \n",
       "\n",
       "To what extent are you aware of your child's activities at school?  Quite aware  \n",
       "What's your Gender?                                                              \n",
       "Female                                                                       11  \n",
       "Male                                                                         11  "
      ]
     },
     "execution_count": 30,
     "metadata": {},
     "output_type": "execute_result"
    }
   ],
   "source": [
    "table2=pd.crosstab(S[\"What's your Gender?\"],S[\"To what extent are you aware of your child's activities at school?\"])\n",
    "print('table :-\\n',table2)\n",
    "table2"
   ]
  },
  {
   "cell_type": "code",
   "execution_count": 31,
   "metadata": {},
   "outputs": [
    {
     "name": "stdout",
     "output_type": "stream",
     "text": [
      "Observed Values :-\n",
      " [[36  1 14 11]\n",
      " [18  0  9 11]]\n"
     ]
    }
   ],
   "source": [
    "Values3 = table2.values \n",
    "print(\"Observed Values :-\\n\",Values3)"
   ]
  },
  {
   "cell_type": "code",
   "execution_count": 32,
   "metadata": {},
   "outputs": [],
   "source": [
    "stat, p, dof, expected = chi2_contingency(table2)"
   ]
  },
  {
   "cell_type": "code",
   "execution_count": 33,
   "metadata": {},
   "outputs": [
    {
     "name": "stdout",
     "output_type": "stream",
     "text": [
      "dof=3\n",
      "[[33.48  0.62 14.26 13.64]\n",
      " [20.52  0.38  8.74  8.36]]\n"
     ]
    }
   ],
   "source": [
    "print('dof=%d' % dof)\n",
    "print(expected)"
   ]
  },
  {
   "cell_type": "code",
   "execution_count": 34,
   "metadata": {},
   "outputs": [
    {
     "name": "stdout",
     "output_type": "stream",
     "text": [
      "probability=0.950, critical=7.815, stat=2.469\n",
      "Independent (fail to reject H0)\n",
      "significance=0.050, p=0.481\n",
      "Independent (fail to reject H0)\n"
     ]
    }
   ],
   "source": [
    "# interpret test-statistic\n",
    "prob = 0.95\n",
    "critical = chi2.ppf(prob, dof)\n",
    "print('probability=%.3f, critical=%.3f, stat=%.3f' % (prob, critical, stat))\n",
    "if abs(stat) >= critical:\n",
    "\tprint('Dependent (reject H0)')\n",
    "else:\n",
    "\tprint('Independent (fail to reject H0)')\n",
    "# interpret p-value\n",
    "alpha = 1.0 - prob\n",
    "print('significance=%.3f, p=%.3f' % (alpha, p))\n",
    "if p <= alpha:\n",
    "\tprint('Dependent (reject H0)')\n",
    "else:\n",
    "\tprint('Independent (fail to reject H0)')"
   ]
  },
  {
   "cell_type": "code",
   "execution_count": 35,
   "metadata": {},
   "outputs": [
    {
     "data": {
      "text/plain": [
       "'Have you been introduced to the use of a school management software prior to this survey'"
      ]
     },
     "execution_count": 35,
     "metadata": {},
     "output_type": "execute_result"
    }
   ],
   "source": [
    "\"Have you been introduced to the use of a school management software prior to this survey\""
   ]
  },
  {
   "cell_type": "code",
   "execution_count": 36,
   "metadata": {},
   "outputs": [
    {
     "name": "stdout",
     "output_type": "stream",
     "text": [
      "table :-\n",
      " Have you been introduced to the use of a school management software prior to this survey?  No  \\\n",
      "What's your Gender?                                                                             \n",
      "Female                                                                                     50   \n",
      "Male                                                                                       29   \n",
      "\n",
      "Have you been introduced to the use of a school management software prior to this survey?  Yes  \\\n",
      "What's your Gender?                                                                              \n",
      "Female                                                                                       9   \n",
      "Male                                                                                         8   \n",
      "\n",
      "Have you been introduced to the use of a school management software prior to this survey?  prefer not to say  \n",
      "What's your Gender?                                                                                           \n",
      "Female                                                                                                     3  \n",
      "Male                                                                                                       1  \n"
     ]
    },
    {
     "data": {
      "text/html": [
       "<div>\n",
       "<style scoped>\n",
       "    .dataframe tbody tr th:only-of-type {\n",
       "        vertical-align: middle;\n",
       "    }\n",
       "\n",
       "    .dataframe tbody tr th {\n",
       "        vertical-align: top;\n",
       "    }\n",
       "\n",
       "    .dataframe thead th {\n",
       "        text-align: right;\n",
       "    }\n",
       "</style>\n",
       "<table border=\"1\" class=\"dataframe\">\n",
       "  <thead>\n",
       "    <tr style=\"text-align: right;\">\n",
       "      <th>Have you been introduced to the use of a school management software prior to this survey?</th>\n",
       "      <th>No</th>\n",
       "      <th>Yes</th>\n",
       "      <th>prefer not to say</th>\n",
       "    </tr>\n",
       "    <tr>\n",
       "      <th>What's your Gender?</th>\n",
       "      <th></th>\n",
       "      <th></th>\n",
       "      <th></th>\n",
       "    </tr>\n",
       "  </thead>\n",
       "  <tbody>\n",
       "    <tr>\n",
       "      <th>Female</th>\n",
       "      <td>50</td>\n",
       "      <td>9</td>\n",
       "      <td>3</td>\n",
       "    </tr>\n",
       "    <tr>\n",
       "      <th>Male</th>\n",
       "      <td>29</td>\n",
       "      <td>8</td>\n",
       "      <td>1</td>\n",
       "    </tr>\n",
       "  </tbody>\n",
       "</table>\n",
       "</div>"
      ],
      "text/plain": [
       "Have you been introduced to the use of a school management software prior to this survey?  No  \\\n",
       "What's your Gender?                                                                             \n",
       "Female                                                                                     50   \n",
       "Male                                                                                       29   \n",
       "\n",
       "Have you been introduced to the use of a school management software prior to this survey?  Yes  \\\n",
       "What's your Gender?                                                                              \n",
       "Female                                                                                       9   \n",
       "Male                                                                                         8   \n",
       "\n",
       "Have you been introduced to the use of a school management software prior to this survey?  prefer not to say  \n",
       "What's your Gender?                                                                                           \n",
       "Female                                                                                                     3  \n",
       "Male                                                                                                       1  "
      ]
     },
     "execution_count": 36,
     "metadata": {},
     "output_type": "execute_result"
    }
   ],
   "source": [
    "table3=pd.crosstab(S[\"What's your Gender?\"],S[\"Have you been introduced to the use of a school management software prior to this survey?\"])\n",
    "print('table :-\\n',table3)\n",
    "table3"
   ]
  },
  {
   "cell_type": "code",
   "execution_count": 37,
   "metadata": {},
   "outputs": [
    {
     "name": "stdout",
     "output_type": "stream",
     "text": [
      "Observed Values :-\n",
      " [[50  9  3]\n",
      " [29  8  1]]\n"
     ]
    }
   ],
   "source": [
    "Values5 = table3.values \n",
    "print(\"Observed Values :-\\n\",Values5)"
   ]
  },
  {
   "cell_type": "code",
   "execution_count": 38,
   "metadata": {},
   "outputs": [],
   "source": [
    "stat, p, dof, expected = chi2_contingency(table3)"
   ]
  },
  {
   "cell_type": "code",
   "execution_count": 39,
   "metadata": {},
   "outputs": [
    {
     "name": "stdout",
     "output_type": "stream",
     "text": [
      "dof=2\n",
      "[[48.98 10.54  2.48]\n",
      " [30.02  6.46  1.52]]\n"
     ]
    }
   ],
   "source": [
    "print('dof=%d' % dof)\n",
    "print(expected)"
   ]
  },
  {
   "cell_type": "code",
   "execution_count": 40,
   "metadata": {},
   "outputs": [
    {
     "name": "stdout",
     "output_type": "stream",
     "text": [
      "probability=0.950, critical=5.991, stat=0.935\n",
      "Independent (fail to reject H0)\n",
      "significance=0.050, p=0.627\n",
      "Independent (fail to reject H0)\n"
     ]
    }
   ],
   "source": [
    "# interpret test-statistic\n",
    "prob = 0.95\n",
    "critical = chi2.ppf(prob, dof)\n",
    "print('probability=%.3f, critical=%.3f, stat=%.3f' % (prob, critical, stat))\n",
    "if abs(stat) >= critical:\n",
    "\tprint('Dependent (reject H0)')\n",
    "else:\n",
    "\tprint('Independent (fail to reject H0)')\n",
    "# interpret p-value\n",
    "alpha = 1.0 - prob\n",
    "print('significance=%.3f, p=%.3f' % (alpha, p))\n",
    "if p <= alpha:\n",
    "\tprint('Dependent (reject H0)')\n",
    "else:\n",
    "\tprint('Independent (fail to reject H0)')"
   ]
  },
  {
   "cell_type": "code",
   "execution_count": 41,
   "metadata": {},
   "outputs": [
    {
     "data": {
      "text/plain": [
       "\"Would you like to receive timely updates of your child's activities in school\""
      ]
     },
     "execution_count": 41,
     "metadata": {},
     "output_type": "execute_result"
    }
   ],
   "source": [
    "\"Would you like to receive timely updates of your child's activities in school\""
   ]
  },
  {
   "cell_type": "code",
   "execution_count": 42,
   "metadata": {},
   "outputs": [
    {
     "name": "stdout",
     "output_type": "stream",
     "text": [
      "table :-\n",
      " Would you like to receive timely updates of your child's activities in school?  No  \\\n",
      "What's your Gender?                                                                  \n",
      "Female                                                                           1   \n",
      "Male                                                                             2   \n",
      "\n",
      "Would you like to receive timely updates of your child's activities in school?  Prefer not to say  \\\n",
      "What's your Gender?                                                                                 \n",
      "Female                                                                                          1   \n",
      "Male                                                                                            1   \n",
      "\n",
      "Would you like to receive timely updates of your child's activities in school?  Yes  \n",
      "What's your Gender?                                                                  \n",
      "Female                                                                           60  \n",
      "Male                                                                             35  \n"
     ]
    },
    {
     "data": {
      "text/html": [
       "<div>\n",
       "<style scoped>\n",
       "    .dataframe tbody tr th:only-of-type {\n",
       "        vertical-align: middle;\n",
       "    }\n",
       "\n",
       "    .dataframe tbody tr th {\n",
       "        vertical-align: top;\n",
       "    }\n",
       "\n",
       "    .dataframe thead th {\n",
       "        text-align: right;\n",
       "    }\n",
       "</style>\n",
       "<table border=\"1\" class=\"dataframe\">\n",
       "  <thead>\n",
       "    <tr style=\"text-align: right;\">\n",
       "      <th>Would you like to receive timely updates of your child's activities in school?</th>\n",
       "      <th>No</th>\n",
       "      <th>Prefer not to say</th>\n",
       "      <th>Yes</th>\n",
       "    </tr>\n",
       "    <tr>\n",
       "      <th>What's your Gender?</th>\n",
       "      <th></th>\n",
       "      <th></th>\n",
       "      <th></th>\n",
       "    </tr>\n",
       "  </thead>\n",
       "  <tbody>\n",
       "    <tr>\n",
       "      <th>Female</th>\n",
       "      <td>1</td>\n",
       "      <td>1</td>\n",
       "      <td>60</td>\n",
       "    </tr>\n",
       "    <tr>\n",
       "      <th>Male</th>\n",
       "      <td>2</td>\n",
       "      <td>1</td>\n",
       "      <td>35</td>\n",
       "    </tr>\n",
       "  </tbody>\n",
       "</table>\n",
       "</div>"
      ],
      "text/plain": [
       "Would you like to receive timely updates of your child's activities in school?  No  \\\n",
       "What's your Gender?                                                                  \n",
       "Female                                                                           1   \n",
       "Male                                                                             2   \n",
       "\n",
       "Would you like to receive timely updates of your child's activities in school?  Prefer not to say  \\\n",
       "What's your Gender?                                                                                 \n",
       "Female                                                                                          1   \n",
       "Male                                                                                            1   \n",
       "\n",
       "Would you like to receive timely updates of your child's activities in school?  Yes  \n",
       "What's your Gender?                                                                  \n",
       "Female                                                                           60  \n",
       "Male                                                                             35  "
      ]
     },
     "execution_count": 42,
     "metadata": {},
     "output_type": "execute_result"
    }
   ],
   "source": [
    "table4=pd.crosstab(S[\"What's your Gender?\"],S[\"Would you like to receive timely updates of your child's activities in school?\"])\n",
    "print('table :-\\n',table4)\n",
    "table4"
   ]
  },
  {
   "cell_type": "code",
   "execution_count": 43,
   "metadata": {},
   "outputs": [
    {
     "name": "stdout",
     "output_type": "stream",
     "text": [
      "Observed Values :-\n",
      " [[ 1  1 60]\n",
      " [ 2  1 35]]\n"
     ]
    }
   ],
   "source": [
    "Values7 = table4.values \n",
    "print(\"Observed Values :-\\n\",Values7)"
   ]
  },
  {
   "cell_type": "code",
   "execution_count": 44,
   "metadata": {},
   "outputs": [],
   "source": [
    "stat, p, dof, expected = chi2_contingency(table4)"
   ]
  },
  {
   "cell_type": "code",
   "execution_count": 45,
   "metadata": {},
   "outputs": [
    {
     "name": "stdout",
     "output_type": "stream",
     "text": [
      "dof=2\n",
      "[[ 1.86  1.24 58.9 ]\n",
      " [ 1.14  0.76 36.1 ]]\n"
     ]
    }
   ],
   "source": [
    "print('dof=%d' % dof)\n",
    "print(expected)"
   ]
  },
  {
   "cell_type": "code",
   "execution_count": 46,
   "metadata": {},
   "outputs": [
    {
     "name": "stdout",
     "output_type": "stream",
     "text": [
      "probability=0.950, critical=5.991, stat=1.223\n",
      "Independent (fail to reject H0)\n",
      "significance=0.050, p=0.543\n",
      "Independent (fail to reject H0)\n"
     ]
    }
   ],
   "source": [
    "# interpret test-statistic\n",
    "prob = 0.95\n",
    "critical = chi2.ppf(prob, dof)\n",
    "print('probability=%.3f, critical=%.3f, stat=%.3f' % (prob, critical, stat))\n",
    "if abs(stat) >= critical:\n",
    "\tprint('Dependent (reject H0)')\n",
    "else:\n",
    "\tprint('Independent (fail to reject H0)')\n",
    "# interpret p-value\n",
    "alpha = 1.0 - prob\n",
    "print('significance=%.3f, p=%.3f' % (alpha, p))\n",
    "if p <= alpha:\n",
    "\tprint('Dependent (reject H0)')\n",
    "else:\n",
    "\tprint('Independent (fail to reject H0)')"
   ]
  }
 ],
 "metadata": {
  "kernelspec": {
   "display_name": "Python 3",
   "language": "python",
   "name": "python3"
  },
  "language_info": {
   "codemirror_mode": {
    "name": "ipython",
    "version": 3
   },
   "file_extension": ".py",
   "mimetype": "text/x-python",
   "name": "python",
   "nbconvert_exporter": "python",
   "pygments_lexer": "ipython3",
   "version": "3.8.8"
  }
 },
 "nbformat": 4,
 "nbformat_minor": 4
}
